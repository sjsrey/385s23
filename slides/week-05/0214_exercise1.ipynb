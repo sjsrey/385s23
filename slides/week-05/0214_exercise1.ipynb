{
 "cells": [
  {
   "cell_type": "markdown",
   "id": "dd147a86-1e44-4c89-9692-14237d1503f5",
   "metadata": {},
   "source": [
    "---\n",
    "title: Exercise 1\n",
    "author: Serge Rey\n",
    "date: '2023-02-14'\n",
    "execute: \n",
    "  enabled: true\n",
    "format:\n",
    "  html:\n",
    "    theme:\n",
    "      light: flatly\n",
    "      dark: darkly\n",
    "    toc: true\n",
    "jupyter: python3\n",
    "---"
   ]
  },
  {
   "cell_type": "markdown",
   "id": "e0abbd28-f12b-4146-873c-f849eb3138d4",
   "metadata": {
    "tags": []
   },
   "source": [
    "# Exercise 1: Geography 385 Spring 2023\n",
    "\n",
    "1. Complete all the tasks below in this notebook (you must show the code used to get your answers).\n",
    "2. Save and Export As - PDF\n",
    "3. Upload your pdf to the Canvas site\n",
    "\n",
    "**Due February 16 2pm**"
   ]
  },
  {
   "cell_type": "markdown",
   "id": "0c400c07-c2a1-4bef-bdfe-ffdfb659fa52",
   "metadata": {},
   "source": [
    "## Creating a folder\n",
    "\n",
    "Create a folder called exercise using the File Explorer in Jupyter Hub\n",
    "\n",
    "In that folder, copy this file, and do all your work in that file/notebook"
   ]
  },
  {
   "cell_type": "code",
   "execution_count": 1,
   "id": "7bf68c3d-611d-4894-88a8-2a3cb3f77df5",
   "metadata": {},
   "outputs": [],
   "source": [
    "import geopandas \n",
    "import pandas\n",
    "import matplotlib.pyplot as plt\n",
    "import numpy\n",
    "import seaborn\n",
    "import contextily"
   ]
  },
  {
   "cell_type": "markdown",
   "id": "cc3aaaf0-c715-477d-9a68-f37ae3a28003",
   "metadata": {},
   "source": [
    "## Reading data\n",
    "\n",
    "Create a GeoDataFrame called: `sd_gdf` that contains the data from the file `/data/shared/tims/sdcounty_2020_fatal.geojson`"
   ]
  },
  {
   "cell_type": "code",
   "execution_count": 2,
   "id": "b027998b-4d72-450a-a193-890c3efa8038",
   "metadata": {},
   "outputs": [],
   "source": []
  },
  {
   "cell_type": "markdown",
   "id": "dc3ad0f0-58ac-46da-8cc3-d65bbb304890",
   "metadata": {},
   "source": [
    "### How many rows and columns are in this GeoDataFrame?"
   ]
  },
  {
   "cell_type": "code",
   "execution_count": 3,
   "id": "f82240cb-09b6-4505-80c6-920bd565c86e",
   "metadata": {},
   "outputs": [],
   "source": []
  },
  {
   "cell_type": "markdown",
   "id": "55b241ac-a825-451b-a99e-5e824c199b9f",
   "metadata": {},
   "source": [
    "### Use the `explore` method to create an interactive map of the accident data"
   ]
  },
  {
   "cell_type": "code",
   "execution_count": 4,
   "id": "4b96fbd8-1e78-4264-85c2-94376623bd02",
   "metadata": {},
   "outputs": [],
   "source": []
  },
  {
   "cell_type": "markdown",
   "id": "23c0ef46-1389-4fd8-882d-866359c7cc5b",
   "metadata": {},
   "source": [
    "### What are the column names (aka variable names, aka attribute names)?"
   ]
  },
  {
   "cell_type": "code",
   "execution_count": 5,
   "id": "a36017c9-3177-4596-8c3e-7974ce8bf3a9",
   "metadata": {},
   "outputs": [],
   "source": []
  },
  {
   "cell_type": "markdown",
   "id": "5ada1fdd-e63f-4781-9a95-66c113e2cd27",
   "metadata": {},
   "source": [
    "## CRS\n",
    "\n",
    "Provide an explanation of what `sd_gdf.crs` reports. What is this attribute used for? What does the code mean"
   ]
  },
  {
   "cell_type": "code",
   "execution_count": 6,
   "id": "d92d2e37-524d-4ce8-a474-cc442e30f5ff",
   "metadata": {},
   "outputs": [],
   "source": []
  },
  {
   "cell_type": "markdown",
   "id": "4e8de1a2-fc0c-4d1e-9a2d-c5e50e4ac11e",
   "metadata": {},
   "source": [
    "## Examining East-West Trends in Fatalities\n",
    "\n",
    "Create an `east` spatial variable using the median longitude value for the geodataframe."
   ]
  },
  {
   "cell_type": "code",
   "execution_count": 7,
   "id": "1b6979da-7d5a-4ca8-94d5-41c57507aa6f",
   "metadata": {},
   "outputs": [],
   "source": []
  },
  {
   "cell_type": "markdown",
   "id": "fe01981c-821f-4b6c-810e-88ecf21734f6",
   "metadata": {},
   "source": [
    "Use the `plot` method to create a categorical map of accidents by east-west."
   ]
  },
  {
   "cell_type": "code",
   "execution_count": 8,
   "id": "f0204e5b-2b0b-403e-919c-20eeb48e22c6",
   "metadata": {},
   "outputs": [],
   "source": []
  },
  {
   "cell_type": "markdown",
   "id": "cb56354b-a188-4f25-9c48-b4c2e72b52e1",
   "metadata": {},
   "source": [
    "Are the number of fatalities different between the accidents in the west and east?"
   ]
  },
  {
   "cell_type": "code",
   "execution_count": 9,
   "id": "2d96301d-bb24-471f-8b78-cd16cc98141f",
   "metadata": {},
   "outputs": [],
   "source": []
  },
  {
   "cell_type": "markdown",
   "id": "ca15243a-8b26-4a02-93df-ff221a1a0465",
   "metadata": {},
   "source": [
    "## Explore the association between Alcohol and Day of the Week\n",
    "\n",
    "Using `groupby` explore whether Alcohol is more prevalant in the weekend fatal accidents than the weekday fatal accidents."
   ]
  },
  {
   "cell_type": "code",
   "execution_count": 10,
   "id": "7be3dee8-fa1f-4229-9a2e-2e6c252078d9",
   "metadata": {},
   "outputs": [],
   "source": []
  }
 ],
 "metadata": {
  "kernelspec": {
   "display_name": "Python 3 (ipykernel)",
   "language": "python",
   "name": "python3"
  },
  "language_info": {
   "codemirror_mode": {
    "name": "ipython",
    "version": 3
   },
   "file_extension": ".py",
   "mimetype": "text/x-python",
   "name": "python",
   "nbconvert_exporter": "python",
   "pygments_lexer": "ipython3",
   "version": "3.10.10"
  }
 },
 "nbformat": 4,
 "nbformat_minor": 5
}
